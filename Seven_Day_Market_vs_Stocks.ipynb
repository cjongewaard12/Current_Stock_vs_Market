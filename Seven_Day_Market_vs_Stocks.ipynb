{
 "cells": [
  {
   "cell_type": "code",
   "execution_count": null,
   "metadata": {},
   "outputs": [],
   "source": [
    "! pip install yfinance\n",
    "! pip install yahoo-finance"
   ]
  },
  {
   "cell_type": "code",
   "execution_count": 2,
   "metadata": {},
   "outputs": [],
   "source": [
    "#import packages\n",
    "import yahoo_finance as yahoo\n",
    "import yfinance as yf\n",
    "import pandas as pd\n",
    "import numpy as np\n",
    "import matplotlib.pyplot as plt\n",
    "import datetime as dt\n",
    "import plotly.express as px\n",
    "from datetime import datetime, timedelta\n",
    "\n",
    "#define start and end dates\n",
    "start_date = datetime.today() - timedelta(days=7)\n",
    "end_date = datetime.today()"
   ]
  },
  {
   "cell_type": "code",
   "execution_count": null,
   "metadata": {},
   "outputs": [],
   "source": [
    "# Read and print the stock tickers that make up S&P500\n",
    "tickers = pd.read_html(\n",
    "    'https://en.wikipedia.org/wiki/List_of_S%26P_500_companies')[0]\n",
    "print(tickers.head())\n",
    "data_list= tickers['Symbol']\n",
    "data = pd.DataFrame(columns=tickers['Symbol'])\n",
    "\n",
    "# Get the data for this tickers from yahoo finance\n",
    "for ticker in data_list:\n",
    "    data[ticker] = yf.download(ticker, start_date, end_date)['Adj Close']"
   ]
  },
  {
   "cell_type": "code",
   "execution_count": null,
   "metadata": {},
   "outputs": [],
   "source": [
    "#calc the daily returns and cumulative returns\n",
    "daily_returns = data.pct_change()\n",
    "daily_returns_avg = daily_returns.mean()\n",
    "cumul_returns = (1 + daily_returns).cumprod()-1\n",
    "cumul_returns = cumul_returns.reset_index()\n",
    "total_period_return = cumul_returns.iloc[:,1:].tail(1)\n",
    "total_period_return = total_period_return*100\n",
    "total_period_return = total_period_return.transpose()\n",
    "total_period_return.columns = ['Total_Return']\n",
    "#print(total_period_return)"
   ]
  },
  {
   "cell_type": "code",
   "execution_count": 10,
   "metadata": {},
   "outputs": [
    {
     "data": {
      "text/plain": [
       "'These stocks are rated a buy'"
      ]
     },
     "metadata": {},
     "output_type": "display_data"
    },
    {
     "data": {
      "text/html": [
       "<div>\n",
       "<style scoped>\n",
       "    .dataframe tbody tr th:only-of-type {\n",
       "        vertical-align: middle;\n",
       "    }\n",
       "\n",
       "    .dataframe tbody tr th {\n",
       "        vertical-align: top;\n",
       "    }\n",
       "\n",
       "    .dataframe thead th {\n",
       "        text-align: right;\n",
       "    }\n",
       "</style>\n",
       "<table border=\"1\" class=\"dataframe\">\n",
       "  <thead>\n",
       "    <tr style=\"text-align: right;\">\n",
       "      <th></th>\n",
       "      <th>Total_Return</th>\n",
       "    </tr>\n",
       "    <tr>\n",
       "      <th>Symbol</th>\n",
       "      <th></th>\n",
       "    </tr>\n",
       "  </thead>\n",
       "  <tbody>\n",
       "    <tr>\n",
       "      <th>AXON</th>\n",
       "      <td>22.971660</td>\n",
       "    </tr>\n",
       "    <tr>\n",
       "      <th>FTNT</th>\n",
       "      <td>20.069929</td>\n",
       "    </tr>\n",
       "    <tr>\n",
       "      <th>K</th>\n",
       "      <td>19.822723</td>\n",
       "    </tr>\n",
       "    <tr>\n",
       "      <th>KVUE</th>\n",
       "      <td>14.063344</td>\n",
       "    </tr>\n",
       "    <tr>\n",
       "      <th>UBER</th>\n",
       "      <td>13.094070</td>\n",
       "    </tr>\n",
       "    <tr>\n",
       "      <th>GDDY</th>\n",
       "      <td>10.911528</td>\n",
       "    </tr>\n",
       "    <tr>\n",
       "      <th>CBOE</th>\n",
       "      <td>9.921934</td>\n",
       "    </tr>\n",
       "    <tr>\n",
       "      <th>FICO</th>\n",
       "      <td>8.750755</td>\n",
       "    </tr>\n",
       "    <tr>\n",
       "      <th>CLX</th>\n",
       "      <td>7.596543</td>\n",
       "    </tr>\n",
       "    <tr>\n",
       "      <th>MPWR</th>\n",
       "      <td>7.461623</td>\n",
       "    </tr>\n",
       "  </tbody>\n",
       "</table>\n",
       "</div>"
      ],
      "text/plain": [
       "        Total_Return\n",
       "Symbol              \n",
       "AXON       22.971660\n",
       "FTNT       20.069929\n",
       "K          19.822723\n",
       "KVUE       14.063344\n",
       "UBER       13.094070\n",
       "GDDY       10.911528\n",
       "CBOE        9.921934\n",
       "FICO        8.750755\n",
       "CLX         7.596543\n",
       "MPWR        7.461623"
      ]
     },
     "metadata": {},
     "output_type": "display_data"
    }
   ],
   "source": [
    "#filter total return for buys\n",
    "#buy threshold will be cumulative return 5% or greater, top 10\n",
    "buy_df = total_period_return[total_period_return['Total_Return']>=5].sort_values('Total_Return',ascending=False).head(10)\n",
    "display('These stocks are rated a buy',buy_df)"
   ]
  },
  {
   "cell_type": "code",
   "execution_count": 11,
   "metadata": {},
   "outputs": [
    {
     "data": {
      "text/plain": [
       "'These stocks are rated a sell'"
      ]
     },
     "metadata": {},
     "output_type": "display_data"
    },
    {
     "data": {
      "text/html": [
       "<div>\n",
       "<style scoped>\n",
       "    .dataframe tbody tr th:only-of-type {\n",
       "        vertical-align: middle;\n",
       "    }\n",
       "\n",
       "    .dataframe tbody tr th {\n",
       "        vertical-align: top;\n",
       "    }\n",
       "\n",
       "    .dataframe thead th {\n",
       "        text-align: right;\n",
       "    }\n",
       "</style>\n",
       "<table border=\"1\" class=\"dataframe\">\n",
       "  <thead>\n",
       "    <tr style=\"text-align: right;\">\n",
       "      <th></th>\n",
       "      <th>Total_Return</th>\n",
       "    </tr>\n",
       "    <tr>\n",
       "      <th>Symbol</th>\n",
       "      <th></th>\n",
       "    </tr>\n",
       "  </thead>\n",
       "  <tbody>\n",
       "    <tr>\n",
       "      <th>INTC</th>\n",
       "      <td>-29.018997</td>\n",
       "    </tr>\n",
       "    <tr>\n",
       "      <th>SMCI</th>\n",
       "      <td>-24.143162</td>\n",
       "    </tr>\n",
       "    <tr>\n",
       "      <th>CRL</th>\n",
       "      <td>-16.846485</td>\n",
       "    </tr>\n",
       "    <tr>\n",
       "      <th>WBD</th>\n",
       "      <td>-16.229118</td>\n",
       "    </tr>\n",
       "    <tr>\n",
       "      <th>ABNB</th>\n",
       "      <td>-15.138054</td>\n",
       "    </tr>\n",
       "    <tr>\n",
       "      <th>MCK</th>\n",
       "      <td>-12.967940</td>\n",
       "    </tr>\n",
       "    <tr>\n",
       "      <th>MNST</th>\n",
       "      <td>-12.397825</td>\n",
       "    </tr>\n",
       "    <tr>\n",
       "      <th>ALB</th>\n",
       "      <td>-12.171296</td>\n",
       "    </tr>\n",
       "    <tr>\n",
       "      <th>PRU</th>\n",
       "      <td>-11.241731</td>\n",
       "    </tr>\n",
       "    <tr>\n",
       "      <th>EPAM</th>\n",
       "      <td>-11.063552</td>\n",
       "    </tr>\n",
       "  </tbody>\n",
       "</table>\n",
       "</div>"
      ],
      "text/plain": [
       "        Total_Return\n",
       "Symbol              \n",
       "INTC      -29.018997\n",
       "SMCI      -24.143162\n",
       "CRL       -16.846485\n",
       "WBD       -16.229118\n",
       "ABNB      -15.138054\n",
       "MCK       -12.967940\n",
       "MNST      -12.397825\n",
       "ALB       -12.171296\n",
       "PRU       -11.241731\n",
       "EPAM      -11.063552"
      ]
     },
     "metadata": {},
     "output_type": "display_data"
    }
   ],
   "source": [
    "#filter total return for sells\n",
    "#sell threshold will be cumulative return of -8% or greater, bottom 10\n",
    "sell_df = total_period_return[total_period_return['Total_Return']<=-8].sort_values('Total_Return',ascending=True).head(10)\n",
    "display('These stocks are rated a sell', sell_df)"
   ]
  },
  {
   "cell_type": "code",
   "execution_count": null,
   "metadata": {},
   "outputs": [],
   "source": [
    "#download market data for same time frame and compare the buys to the market\n",
    "# Read and print the stock tickers that make up S&P500\n",
    "tickers_mkt = pd.read_html(\n",
    "    'https://finance.yahoo.com/world-indices/')[0]\n",
    "print(tickers_mkt.head())\n",
    "mkt_list= tickers_mkt['Symbol']\n",
    "mkt_data = pd.DataFrame(columns=tickers_mkt['Symbol'])\n",
    "\n",
    "# Get the data for this tickers from yahoo finance\n",
    "for ticker in mkt_list:\n",
    "    mkt_data[ticker] = yf.download(ticker, start_date, end_date)['Adj Close']"
   ]
  },
  {
   "cell_type": "code",
   "execution_count": null,
   "metadata": {},
   "outputs": [],
   "source": [
    "#finding the top 5 markets returns from yahoo's market indexes\n",
    "market_daily_return = mkt_data.pct_change()\n",
    "market_daily_return_avg = market_daily_return.mean()\n",
    "cumul_return_mkt = (1 + market_daily_return).cumprod()-1\n",
    "cumul_return_mkt = cumul_return_mkt.reset_index()\n",
    "total_period_return_mkt = cumul_return_mkt.iloc[:,1:].tail(1)\n",
    "total_period_return_mkt = total_period_return_mkt*100\n",
    "total_period_return_mkt = total_period_return_mkt.transpose()\n",
    "total_period_return_mkt = total_period_return_mkt.dropna()\n",
    "total_period_return_mkt.columns = ['Total_Return']\n",
    "total_period_return_mkt_top_five = total_period_return_mkt.sort_values('Total_Return',ascending=False).head(5)\n",
    "#print(total_period_return_mkt_top_five)"
   ]
  },
  {
   "cell_type": "code",
   "execution_count": 14,
   "metadata": {},
   "outputs": [
    {
     "data": {
      "image/png": "[encoded data removed]",
      "text/plain": [
       "<Figure size 1000x700 with 1 Axes>"
      ]
     },
     "metadata": {},
     "output_type": "display_data"
    }
   ],
   "source": [
    "#plot the top five indexes versus the buy stocks, the total return\n",
    "combined_data = pd.concat([total_period_return_mkt_top_five,buy_df])\n",
    "#plot annualized returns for funds and market to see which ones outperform the market\n",
    "combined_data.plot.bar(figsize=(10,7))\n",
    "plt.legend\n",
    "plt.title('Total Return Past Seven Days',fontsize = 16)\n",
    "plt.ylabel('Return (%)',fontsize=14)\n",
    "plt.xlabel('Stock/Index',fontsize=14)\n",
    "plt.grid(which='major',color='k',linestyle='-.',linewidth=0.4)\n",
    "plt.show()"
   ]
  }
 ],
 "metadata": {
  "kernelspec": {
   "display_name": "base",
   "language": "python",
   "name": "python3"
  },
  "language_info": {
   "codemirror_mode": {
    "name": "ipython",
    "version": 3
   },
   "file_extension": ".py",
   "mimetype": "text/x-python",
   "name": "python",
   "nbconvert_exporter": "python",
   "pygments_lexer": "ipython3",
   "version": "3.11.7"
  }
 },
 "nbformat": 4,
 "nbformat_minor": 2
}
